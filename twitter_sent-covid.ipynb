{
 "cells": [
  {
   "cell_type": "markdown",
   "id": "d5e301a2",
   "metadata": {},
   "source": [
    "## Install the packages"
   ]
  },
  {
   "cell_type": "code",
   "execution_count": null,
   "id": "73308494",
   "metadata": {},
   "outputs": [],
   "source": [
    "!pip install tensorflow \n",
    "!pip install keras\n",
    "!pip install Keras-Preprocessing\n",
    "!pip install wordcloud\n"
   ]
  },
  {
   "cell_type": "markdown",
   "id": "0cf3f095",
   "metadata": {},
   "source": [
    "## Import packages and load data."
   ]
  },
  {
   "cell_type": "code",
   "execution_count": null,
   "id": "75e5d5e3",
   "metadata": {},
   "outputs": [],
   "source": [
    "# Import necessary libraries\n",
    "import pandas as pd\n",
    "import nltk\n",
    "import matplotlib.pyplot as plt\n",
    "import seaborn as sb\n",
    "from nltk.sentiment.vader import SentimentIntensityAnalyzer\n",
    "from sklearn.model_selection import train_test_split\n",
    "from sklearn.feature_extraction.text import CountVectorizer\n",
    "from keras.models import Sequential\n",
    "from keras.layers import Dense\n",
    "\n",
    "import warnings\n",
    "warnings.filterwarnings('ignore')"
   ]
  },
  {
   "cell_type": "code",
   "execution_count": null,
   "id": "a7b62769",
   "metadata": {},
   "outputs": [],
   "source": [
    "# Load CSV data\n",
    "df = pd.read_csv('vaccination_tweets.csv')\n",
    "df.head()\n"
   ]
  },
  {
   "cell_type": "markdown",
   "id": "360a985b",
   "metadata": {},
   "source": [
    "## Perform exploratory data analysis (EDA)."
   ]
  },
  {
   "cell_type": "code",
   "execution_count": null,
   "id": "7abc65bb",
   "metadata": {},
   "outputs": [],
   "source": [
    "# Example: Calculate basic statistics for each column\n",
    "\n",
    "print(\"Basic Statistics:\")\n",
    "print(df.describe())"
   ]
  },
  {
   "cell_type": "code",
   "execution_count": null,
   "id": "8a6dcb5a",
   "metadata": {},
   "outputs": [],
   "source": [
    "# Example: Calculate sum of values for each column\n",
    "print(\"Sum of Values:\")\n",
    "print(df.sum())"
   ]
  },
  {
   "cell_type": "code",
   "execution_count": null,
   "id": "582b5d04",
   "metadata": {},
   "outputs": [],
   "source": [
    "# Example: Calculate average of values for each column\n",
    "print(\"Average of Values:\")\n",
    "print(df.mean())"
   ]
  },
  {
   "cell_type": "code",
   "execution_count": null,
   "id": "36eee2a2",
   "metadata": {},
   "outputs": [],
   "source": [
    "# Example: Calculate maximum value for each column\n",
    "print(\"Maximum Value:\")\n",
    "print(df.max())\n"
   ]
  },
  {
   "cell_type": "code",
   "execution_count": null,
   "id": "d7baa994",
   "metadata": {},
   "outputs": [],
   "source": [
    "# Example: Calculate minimum value for each column\n",
    "print(\"Minimum Value:\")\n",
    "print(df.min())"
   ]
  },
  {
   "cell_type": "code",
   "execution_count": null,
   "id": "5160d46b",
   "metadata": {},
   "outputs": [],
   "source": [
    "# Example: Count number of non-null values for each column\n",
    "print(\"Count of Non-null Values:\")\n",
    "print(df.count())"
   ]
  },
  {
   "cell_type": "code",
   "execution_count": null,
   "id": "7c759b90",
   "metadata": {},
   "outputs": [],
   "source": []
  },
  {
   "cell_type": "markdown",
   "id": "70c0d487",
   "metadata": {},
   "source": [
    "## Data Preprocessing"
   ]
  },
  {
   "cell_type": "code",
   "execution_count": null,
   "id": "895d50d1",
   "metadata": {},
   "outputs": [],
   "source": [
    "# Check for missing or null values\n",
    "print(df.isnull().sum())\n"
   ]
  },
  {
   "cell_type": "code",
   "execution_count": null,
   "id": "57f60856",
   "metadata": {},
   "outputs": [],
   "source": [
    "# Replace null values in 'user_location', 'user_description', 'hashtags', and 'source' columns\n",
    "df['user_location'].fillna('', inplace=True)\n",
    "df['user_description'].fillna('', inplace=True)\n",
    "df['hashtags'].fillna('', inplace=True)\n",
    "df['source'].fillna('', inplace=True)"
   ]
  },
  {
   "cell_type": "code",
   "execution_count": null,
   "id": "ecda4854",
   "metadata": {},
   "outputs": [],
   "source": [
    "# Check for missing or null values\n",
    "print(df.isnull().sum())"
   ]
  },
  {
   "cell_type": "code",
   "execution_count": null,
   "id": "3bcf03e5",
   "metadata": {},
   "outputs": [],
   "source": [
    "# Convert text to lowercase\n",
    "df['text'] = df['text'].str.lower() \n",
    "# Remove punctuation\n",
    "df['text'] = df['text'].str.replace('[^\\w\\s]', '') "
   ]
  },
  {
   "cell_type": "code",
   "execution_count": null,
   "id": "88c5d2f5",
   "metadata": {},
   "outputs": [],
   "source": [
    "# Plot the top value_counts\n",
    "plt.figure(figsize=(20,10))\n",
    "df['source'].value_counts().nlargest(30).plot(kind='bar')\n",
    "plt.xticks(rotation=45)\n",
    "plt.show()"
   ]
  },
  {
   "cell_type": "code",
   "execution_count": null,
   "id": "ef9cc93b",
   "metadata": {},
   "outputs": [],
   "source": [
    "# Create heatmap\n",
    "heatmap_data = df[['user_followers', 'user_friends', 'user_favourites', 'retweets', 'favorites']]\n",
    "heatmap = sb.heatmap(heatmap_data.corr(), annot=True, cmap='coolwarm')\n",
    "\n",
    "# Set plot title and labels\n",
    "plt.title('Correlation Heatmap')\n",
    "plt.xlabel('User Metrics')\n",
    "plt.ylabel('User Metrics')\n",
    "\n",
    "# Show the plot\n",
    "plt.show()\n"
   ]
  },
  {
   "cell_type": "code",
   "execution_count": null,
   "id": "1f8c2170",
   "metadata": {},
   "outputs": [],
   "source": [
    "\n",
    "\n",
    "# Extract hashtags from tweets\n",
    "hashtags = df['hashtags'].str.split(',', expand=True).values.flatten()\n",
    "\n",
    "# Count frequency of hashtags\n",
    "hashtag_counts = pd.Series(hashtags).value_counts().head(10)  # Change 'head(10)' to desired number of top hashtags\n",
    "\n",
    "# Create pie chart\n",
    "plt.figure(figsize=(10, 5))\n",
    "hashtag_counts.plot(kind='pie', autopct='%1.1f%%', startangle=90, explode=[0.1]*len(hashtag_counts))  # Use 'kind='pie'' for pie chart\n",
    "plt.title('Top 10 Hashtags')\n",
    "plt.axis('equal')  # Equal aspect ratio to make the pie chart a circle\n",
    "plt.legend(hashtag_counts.index, loc='upper right')  # Show legend with hashtag labels\n",
    "plt.show()\n"
   ]
  },
  {
   "cell_type": "code",
   "execution_count": null,
   "id": "185d4c66",
   "metadata": {},
   "outputs": [],
   "source": [
    "from wordcloud import WordCloud\n",
    "\n",
    "# Extract hashtags from the text data\n",
    "hashtags = ' '.join(data['hashtags'])\n",
    "\n",
    "# Create a WordCloud object\n",
    "wordcloud = WordCloud(width=800, height=400, background_color='white').generate(hashtags)\n",
    "\n",
    "# Create a figure and axis\n",
    "fig, ax = plt.subplots(figsize=(10, 5))\n",
    "\n",
    "# Plot the word cloud\n",
    "ax.imshow(wordcloud, interpolation='bilinear')\n",
    "ax.set_title('Most Common Hashtags in COVID Vaccine Discussions')\n",
    "ax.axis('off')\n",
    "\n",
    "# Show the word cloud\n",
    "plt.show()"
   ]
  },
  {
   "cell_type": "markdown",
   "id": "44654cfd",
   "metadata": {},
   "source": [
    "## VADER sentiment analyzer"
   ]
  },
  {
   "cell_type": "code",
   "execution_count": null,
   "id": "89b58cbb",
   "metadata": {},
   "outputs": [],
   "source": [
    "# Load the NLTK VADER sentiment analyzer\n",
    "nltk.download('vader_lexicon')\n",
    "sia = SentimentIntensityAnalyzer()\n",
    "\n",
    "\n",
    "# Define functions for sentiment scoring\n",
    "def get_sentiment_score(text):\n",
    "    sentiment = sia.polarity_scores(text)\n",
    "    return sentiment['compound']\n",
    "\n",
    "def get_sentiment_label(score):\n",
    "    if score >= 0.05:\n",
    "        return 'positive'\n",
    "    elif score <= -0.05:\n",
    "        return 'negative'\n",
    "    else:\n",
    "        return 'neutral'\n",
    "\n",
    "# Calculate sentiment scores and labels\n",
    "df['sentiment_score'] = df['text'].apply(get_sentiment_score)\n",
    "df['sentiment_label'] = df['sentiment_score'].apply(get_sentiment_label)\n",
    "\n",
    "sentiment_counts = df['sentiment_label'].value_counts()\n",
    "sentiment_counts.plot(kind='bar', rot=0)\n",
    "plt.title('Sentiment Distribution')\n",
    "plt.xlabel('Sentiment Label')\n",
    "plt.ylabel('Count')\n",
    "plt.show()\n",
    "\n",
    "# Data interpretation\n",
    "positive_percentage = (sentiment_counts['positive'] / df.shape[0]) * 100\n",
    "negative_percentage = (sentiment_counts['negative'] / df.shape[0]) * 100\n",
    "neutral_percentage = (sentiment_counts['neutral'] / df.shape[0]) * 100\n",
    "\n",
    "print(f'Positive percentage: {positive_percentage:.2f}%')\n",
    "print(f'Negative percentage: {negative_percentage:.2f}%')\n",
    "print(f'Neutral percentage: {neutral_percentage:.2f}%')\n",
    "\n"
   ]
  },
  {
   "cell_type": "markdown",
   "id": "1a02fa21",
   "metadata": {},
   "source": [
    "## Keras Model"
   ]
  },
  {
   "cell_type": "code",
   "execution_count": null,
   "id": "53dc7025",
   "metadata": {},
   "outputs": [],
   "source": [
    "import pandas as pd\n",
    "from sklearn.model_selection import train_test_split\n",
    "from keras.models import Sequential\n",
    "from keras.layers import Embedding, LSTM, Dense\n",
    "from keras.preprocessing.text import Tokenizer\n",
    "from keras_preprocessing.sequence import pad_sequences\n",
    "\n",
    "# Load data from CSV\n",
    "df = pd.read_csv('vaccination_tweets.csv')\n",
    "\n",
    "# Split data into training and testing sets\n",
    "train_df, test_df = train_test_split(df, test_size=0.2, random_state=42)\n",
    "\n",
    "# Preprocess text data\n",
    "tokenizer = Tokenizer()\n",
    "tokenizer.fit_on_texts(train_df['text'])\n",
    "train_sequences = tokenizer.texts_to_sequences(train_df['text'])\n",
    "test_sequences = tokenizer.texts_to_sequences(test_df['text'])\n",
    "max_len = max(len(seq) for seq in train_sequences)\n",
    "train_data = pad_sequences(train_sequences, maxlen=max_len)\n",
    "test_data = pad_sequences(test_sequences, maxlen=max_len)\n",
    "\n",
    "# Convert target variable to numerical values\n",
    "train_df['is_retweet'] = train_df['is_retweet'].map({False: 0, True: 1})\n",
    "test_df['is_retweet'] = test_df['is_retweet'].map({False: 0, True: 1})\n",
    "\n",
    "# Define Keras model\n",
    "model = Sequential()\n",
    "model.add(Embedding(input_dim=len(tokenizer.word_index) + 1, output_dim=128, input_length=max_len))\n",
    "model.add(LSTM(units=64))\n",
    "model.add(Dense(units=1, activation='sigmoid'))\n",
    "model.compile(optimizer='adam', loss='binary_crossentropy', metrics=['accuracy'])\n",
    "\n",
    "# Train the model\n",
    "model.fit(train_data, train_df['is_retweet'], epochs=10, batch_size=32)\n",
    "\n",
    "# Evaluate the model\n",
    "loss, accuracy = model.evaluate(test_data, test_df['is_retweet'])\n",
    "print(f'Test Loss: {loss}, Test Accuracy: {accuracy}')\n"
   ]
  },
  {
   "cell_type": "code",
   "execution_count": null,
   "id": "d85f4d1b",
   "metadata": {},
   "outputs": [],
   "source": []
  },
  {
   "cell_type": "code",
   "execution_count": null,
   "id": "48c5502b",
   "metadata": {},
   "outputs": [],
   "source": [
    "\n"
   ]
  },
  {
   "cell_type": "code",
   "execution_count": null,
   "id": "5bd4e9b5",
   "metadata": {},
   "outputs": [],
   "source": []
  }
 ],
 "metadata": {
  "kernelspec": {
   "display_name": "Python 3 (ipykernel)",
   "language": "python",
   "name": "python3"
  },
  "language_info": {
   "codemirror_mode": {
    "name": "ipython",
    "version": 3
   },
   "file_extension": ".py",
   "mimetype": "text/x-python",
   "name": "python",
   "nbconvert_exporter": "python",
   "pygments_lexer": "ipython3",
   "version": "3.9.13"
  }
 },
 "nbformat": 4,
 "nbformat_minor": 5
}
